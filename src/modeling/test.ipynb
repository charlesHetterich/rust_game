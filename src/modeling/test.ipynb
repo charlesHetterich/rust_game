{
 "cells": [
  {
   "cell_type": "code",
   "execution_count": 1,
   "metadata": {},
   "outputs": [
    {
     "data": {
      "text/plain": [
       "0"
      ]
     },
     "execution_count": 1,
     "metadata": {},
     "output_type": "execute_result"
    }
   ],
   "source": [
    "import torch\n",
    "from model_arc import BallPolicy\n",
    "torch.mps.current_allocated_memory()"
   ]
  },
  {
   "cell_type": "code",
   "execution_count": 86,
   "metadata": {},
   "outputs": [
    {
     "data": {
      "text/plain": [
       "0.5937803005817712"
      ]
     },
     "execution_count": 86,
     "metadata": {},
     "output_type": "execute_result"
    }
   ],
   "source": [
    "torch.mps.profiler"
   ]
  },
  {
   "cell_type": "code",
   "execution_count": 2,
   "metadata": {},
   "outputs": [
    {
     "data": {
      "text/plain": [
       "425984"
      ]
     },
     "execution_count": 2,
     "metadata": {},
     "output_type": "execute_result"
    }
   ],
   "source": [
    "torch.mps.driver_allocated_memory()"
   ]
  },
  {
   "cell_type": "code",
   "execution_count": 31,
   "metadata": {},
   "outputs": [],
   "source": [
    "# model = torch.jit.load(\"ball_policy.pt\", map_location=torch.device('cpu'))\n",
    "n_balls = 50\n",
    "nb_features=4\n",
    "in_f = (n_balls + 1) * nb_features\n",
    "model = BallPolicy(n_balls = n_balls, nb_features=nb_features, n_actions=4, n_layers=2)\n",
    "model = model.to('mps')"
   ]
  },
  {
   "cell_type": "code",
   "execution_count": 72,
   "metadata": {},
   "outputs": [],
   "source": [
    "model = model.to('cpu')"
   ]
  },
  {
   "cell_type": "code",
   "execution_count": 61,
   "metadata": {},
   "outputs": [
    {
     "name": "stdout",
     "output_type": "stream",
     "text": [
      "0.01472163200378418\n"
     ]
    }
   ],
   "source": [
    "from time import time\n",
    "\n",
    "batch_size = 32\n",
    "t = time()\n",
    "optim = torch.optim.Adam(model.parameters(), lr=1e-8)\n",
    "data = torch.rand(batch_size, in_f).to('mps')\n",
    "# for _ in range(60):\n",
    "loss = model(data).sum()\n",
    "# print(loss)\n",
    "loss.backward()\n",
    "optim.step()\n",
    "delta  = time() - t\n",
    "print(delta)"
   ]
  },
  {
   "cell_type": "code",
   "execution_count": 63,
   "metadata": {},
   "outputs": [
    {
     "data": {
      "text/plain": [
       "65536"
      ]
     },
     "execution_count": 63,
     "metadata": {},
     "output_type": "execute_result"
    }
   ],
   "source": [
    "256 ** 2"
   ]
  },
  {
   "cell_type": "code",
   "execution_count": 62,
   "metadata": {},
   "outputs": [
    {
     "name": "stdout",
     "output_type": "stream",
     "text": [
      "tensor(0.8145, grad_fn=<SumBackward0>)\n"
     ]
    }
   ],
   "source": [
    "optim = torch.optim.Adam(model.parameters(), lr=1e-8)\n",
    "data = torch.rand(1, 1004).to('cpu') * 1000000000\n",
    "loss = model(data).sum()\n",
    "print(loss)"
   ]
  },
  {
   "cell_type": "code",
   "execution_count": 73,
   "metadata": {},
   "outputs": [
    {
     "name": "stdout",
     "output_type": "stream",
     "text": [
      "tensor([[0.1607, 0.6558, 0.1795, 0.6435, 0.5817, 0.7773, 0.2754, 0.6279, 0.4268,\n",
      "         0.3380, 0.9985, 0.3087, 0.1169, 0.9919, 0.7456, 0.4179, 0.7269, 0.7882,\n",
      "         0.9452, 0.9267, 0.2000, 0.3957, 0.0325, 0.5733, 0.0043, 0.4618, 0.9501,\n",
      "         0.1934, 0.1906, 0.1742, 0.9788, 0.5099, 0.8030, 0.1362, 0.8860, 0.6982,\n",
      "         0.9043, 0.7401, 0.8275, 0.8636, 0.0550, 0.0833, 0.5711, 0.4348, 0.2975,\n",
      "         0.4235, 0.3399, 0.9667, 0.2835, 0.1916, 0.7493, 0.8560, 0.4503, 0.9696,\n",
      "         0.4613, 0.9016, 0.8486, 0.0912, 0.4481, 0.9865, 0.5720, 0.9743, 0.7210,\n",
      "         0.0758, 0.0845, 0.2558, 0.9505, 0.7565, 0.6046, 0.4338, 0.9569, 0.7902,\n",
      "         0.8656, 0.6070, 0.8447, 0.1914, 0.0463, 0.2863, 0.8697, 0.5480, 0.0542,\n",
      "         0.0481, 0.6061, 0.9848, 0.0304, 0.7185, 0.7259, 0.9627, 0.4677, 0.3502,\n",
      "         0.8991, 0.4367, 0.4507, 0.2996, 0.7822, 0.1324, 0.6747, 0.9638, 0.4812,\n",
      "         0.2542, 0.5442, 0.2416, 0.6191, 0.5733, 0.3336, 0.5777, 0.9326, 0.9300,\n",
      "         0.5902, 0.6570, 0.5770, 0.5882, 0.5874, 0.7913, 0.2945, 0.0401, 0.8513,\n",
      "         0.0873, 0.7874, 0.4045, 0.2878, 0.4952, 0.6289, 0.4367, 0.3436, 0.0073,\n",
      "         0.4247, 0.3890, 0.6800, 0.9996, 0.7276, 0.1111, 0.6986, 0.1963, 0.1007,\n",
      "         0.1607, 0.2338, 0.8964, 0.7699, 0.7518, 0.9732, 0.2537, 0.8537, 0.0894,\n",
      "         0.1388, 0.3786, 0.6887, 0.3225, 0.3886, 0.7248, 0.4669, 0.8208, 0.3115,\n",
      "         0.1144, 0.0379, 0.9320, 0.4840, 0.9302, 0.8468, 0.6511, 0.6557, 0.2242,\n",
      "         0.1367, 0.7712, 0.9496, 0.3392, 0.2912, 0.9426, 0.8340, 0.7606, 0.5123,\n",
      "         0.8822, 0.6298, 0.1458, 0.6424, 0.1994, 0.5404, 0.7043, 0.7596, 0.7476,\n",
      "         0.6809, 0.2287, 0.7192, 0.8255, 0.5167, 0.7990, 0.8470, 0.3438, 0.7301,\n",
      "         0.9654, 0.9011, 0.6960, 0.9916, 0.7539, 0.2406, 0.4325, 0.1832, 0.1019,\n",
      "         0.2261, 0.2812, 0.0698, 0.6707, 0.0209, 0.8455]], device='mps:0')\n"
     ]
    }
   ],
   "source": [
    "print(data)"
   ]
  },
  {
   "cell_type": "code",
   "execution_count": 48,
   "metadata": {},
   "outputs": [
    {
     "data": {
      "text/plain": [
       "tensor([[-0.0254,  0.0652,  0.0072,  0.0306]], device='mps:0',\n",
       "       grad_fn=<DifferentiableGraphBackward>)"
      ]
     },
     "execution_count": 48,
     "metadata": {},
     "output_type": "execute_result"
    }
   ],
   "source": [
    "model(data)"
   ]
  },
  {
   "cell_type": "code",
   "execution_count": 2,
   "metadata": {},
   "outputs": [
    {
     "name": "stdout",
     "output_type": "stream",
     "text": [
      "Class labels: ['Red', 'Green', 'Blue', 'Yellow', 'Green', 'Blue', 'Red', 'Blue', 'Blue', 'Red', 'Green', 'Red', 'Blue', 'Blue', 'Yellow', 'Yellow', 'Yellow', 'Green', 'Red', 'Green', 'Blue', 'Red', 'Yellow', 'Blue', 'Player', 'Yellow', 'Green', 'Blue', 'Blue', 'Yellow', 'Red', 'Yellow', 'Blue', 'Blue', 'Green', 'Green', 'Yellow', 'Red', 'Green', 'Blue', 'Yellow', 'Red', 'Blue', 'Yellow', 'Blue', 'Yellow', 'Yellow', 'Green', 'Green', 'Blue', 'Red']\n",
      "Data shape: torch.Size([51, 46, 2])\n",
      "First ball's positions: tensor([[6.1928, 4.2430],\n",
      "        [6.1928, 4.2430],\n",
      "        [6.1545, 4.2594],\n",
      "        [6.1253, 4.2720],\n",
      "        [6.1030, 4.2815],\n",
      "        [6.0859, 4.2889],\n",
      "        [6.0752, 4.2934],\n",
      "        [6.0647, 4.2980],\n",
      "        [6.0567, 4.3014],\n",
      "        [6.0504, 4.3043],\n",
      "        [6.0453, 4.3066],\n",
      "        [6.0413, 4.3085],\n",
      "        [6.0380, 4.3100],\n",
      "        [6.0354, 4.3112],\n",
      "        [6.0332, 4.3122],\n",
      "        [6.0314, 4.3130],\n",
      "        [6.0300, 4.3137],\n",
      "        [6.0288, 4.3142],\n",
      "        [6.0278, 4.3147],\n",
      "        [6.0270, 4.3150],\n",
      "        [6.0264, 4.3153],\n",
      "        [6.0258, 4.3156],\n",
      "        [6.0254, 4.3158],\n",
      "        [6.0250, 4.3160],\n",
      "        [6.0247, 4.3162],\n",
      "        [6.0244, 4.3164],\n",
      "        [6.0242, 4.3166],\n",
      "        [6.0239, 4.3167],\n",
      "        [6.0236, 4.3169],\n",
      "        [6.0233, 4.3171],\n",
      "        [6.0230, 4.3173],\n",
      "        [6.0227, 4.3175],\n",
      "        [6.0224, 4.3177],\n",
      "        [6.0222, 4.3178],\n",
      "        [6.0219, 4.3180],\n",
      "        [6.0216, 4.3182],\n",
      "        [6.0214, 4.3184],\n",
      "        [6.0211, 4.3186],\n",
      "        [6.0208, 4.3187],\n",
      "        [6.0206, 4.3189],\n",
      "        [6.0203, 4.3191],\n",
      "        [6.0201, 4.3192],\n",
      "        [6.0198, 4.3194],\n",
      "        [6.0196, 4.3196],\n",
      "        [6.0193, 4.3197],\n",
      "        [6.0191, 4.3199]])\n"
     ]
    }
   ],
   "source": [
    "import numpy as np\n",
    "import torch\n",
    "\n",
    "def parse_simulation_output(file_path):\n",
    "    # Initialize containers for data\n",
    "    class_labels = []\n",
    "    positions = []\n",
    "\n",
    "    # Open and read the file\n",
    "    with open(file_path, 'r') as f:\n",
    "        current_class = None\n",
    "        current_positions = []\n",
    "\n",
    "        for line in f:\n",
    "            line = line.strip()\n",
    "\n",
    "            # Skip empty lines\n",
    "            if not line or line == '---':\n",
    "                continue\n",
    "\n",
    "            # Check for class identifier\n",
    "            if line.startswith('Class:'):\n",
    "                # If we're already processing a class, save its positions and reset\n",
    "                if current_class is not None and current_positions:\n",
    "                    class_labels.append(current_class)\n",
    "                    positions.append(current_positions)\n",
    "\n",
    "                # Extract the class name (i.e., 'Red', 'Green', etc.)\n",
    "                current_class = line.split(': ')[1]\n",
    "                current_positions = []\n",
    "            else:\n",
    "                # Split the position into x, y floats\n",
    "                x, y = map(float, line.split(','))\n",
    "                current_positions.append([x, y])\n",
    "\n",
    "        # Don't forget to add the last class after the loop ends\n",
    "        if current_class is not None and current_positions:\n",
    "            class_labels.append(current_class)\n",
    "            positions.append(current_positions)\n",
    "\n",
    "    return class_labels, positions\n",
    "\n",
    "def positions_to_tensor_or_numpy(positions, use_tensor=True):\n",
    "    \"\"\"\n",
    "    Convert the list of positions into a tensor (default) or numpy array.\n",
    "    \n",
    "    :param positions: List of position data.\n",
    "    :param use_tensor: Boolean flag to decide whether to convert to a tensor or numpy array.\n",
    "    :return: Tensor or NumPy array of shape (num_balls, num_frames, 2).\n",
    "    \"\"\"\n",
    "    # Convert positions into a 3D array (num_balls, num_frames, 2)\n",
    "    data_array = np.array(positions)  # Shape: (num_balls, num_frames, 2)\n",
    "\n",
    "    if use_tensor:\n",
    "        return torch.tensor(data_array, dtype=torch.float32)\n",
    "    else:\n",
    "        return data_array\n",
    "\n",
    "# Example usage\n",
    "file_path = \"../../ball_positions.txt\"  # Change this to the path of your file\n",
    "\n",
    "# Parse the file\n",
    "class_labels, positions = parse_simulation_output(file_path)\n",
    "\n",
    "# Convert to tensor or numpy array\n",
    "use_tensor = True  # Set to False if you want a NumPy array instead of a tensor\n",
    "output = positions_to_tensor_or_numpy(positions, use_tensor=use_tensor)\n",
    "\n",
    "print(\"Class labels:\", class_labels)\n",
    "print(\"Data shape:\", output.shape)  # Should print something like (num_balls, num_frames, 2)\n",
    "print(\"First ball's positions:\", output[0])  # Example to see positions of the first ball\n"
   ]
  },
  {
   "cell_type": "code",
   "execution_count": 13,
   "metadata": {},
   "outputs": [
    {
     "name": "stdout",
     "output_type": "stream",
     "text": [
      "torch.Size([51, 2])\n",
      "torch.Size([51, 2])\n",
      "torch.Size([51, 2])\n",
      "torch.Size([51, 2])\n",
      "torch.Size([51, 2])\n",
      "torch.Size([51, 2])\n",
      "torch.Size([51, 2])\n",
      "torch.Size([51, 2])\n",
      "torch.Size([51, 2])\n",
      "torch.Size([51, 2])\n",
      "torch.Size([51, 2])\n",
      "torch.Size([51, 2])\n",
      "torch.Size([51, 2])\n",
      "torch.Size([51, 2])\n",
      "torch.Size([51, 2])\n",
      "torch.Size([51, 2])\n",
      "torch.Size([51, 2])\n",
      "torch.Size([51, 2])\n",
      "torch.Size([51, 2])\n",
      "torch.Size([51, 2])\n",
      "torch.Size([51, 2])\n",
      "torch.Size([51, 2])\n",
      "torch.Size([51, 2])\n",
      "torch.Size([51, 2])\n",
      "torch.Size([51, 2])\n",
      "torch.Size([51, 2])\n",
      "torch.Size([51, 2])\n",
      "torch.Size([51, 2])\n",
      "torch.Size([51, 2])\n",
      "torch.Size([51, 2])\n",
      "torch.Size([51, 2])\n",
      "torch.Size([51, 2])\n",
      "torch.Size([51, 2])\n",
      "torch.Size([51, 2])\n",
      "torch.Size([51, 2])\n",
      "torch.Size([51, 2])\n",
      "torch.Size([51, 2])\n",
      "torch.Size([51, 2])\n",
      "torch.Size([51, 2])\n",
      "torch.Size([51, 2])\n",
      "torch.Size([51, 2])\n",
      "torch.Size([51, 2])\n",
      "torch.Size([51, 2])\n",
      "torch.Size([51, 2])\n",
      "torch.Size([51, 2])\n",
      "torch.Size([51, 2])\n"
     ]
    }
   ],
   "source": [
    "for positions in output.permute(1, 0, 2):\n",
    "    print(positions.shape)"
   ]
  },
  {
   "cell_type": "code",
   "execution_count": null,
   "metadata": {},
   "outputs": [],
   "source": [
    "import ipywidgets as widgets\n",
    "from IPython.display import display\n",
    "\n",
    "import matplotlib.pyplot as plt\n",
    "\n",
    "# Dictionary to map class labels to colors\n",
    "color_map = {\n",
    "    'Red': 'r',\n",
    "    'Green': 'g',\n",
    "    'Blue': 'b',\n",
    "    'Yellow': 'y',\n",
    "    'Player': 'w'\n",
    "}\n",
    "\n",
    "# Function to plot the positions for a given frame\n",
    "def plot_frame(frame):\n",
    "    positions = output[:, frame].numpy()\n",
    "\n",
    "    # Create a new figure\n",
    "    plt.figure(figsize=(5, 5))\n",
    "\n",
    "    # Iterate over positions and plot each as a circle\n",
    "    for pos, label in zip(positions, class_labels):\n",
    "        color = color_map.get(label, 'k')  # Default to black if class is unknown\n",
    "        circle = plt.Circle((pos[0], pos[1]), 1.5 if label == 'Player' else 0.5, color=color, alpha=0.5)\n",
    "        plt.gca().add_patch(circle)\n",
    "\n",
    "    # Set the limits and aspect ratio\n",
    "    plt.xlim(-25, 25)\n",
    "    plt.ylim(-25, 25)\n",
    "    plt.gca().set_aspect('equal', adjustable='box')\n",
    "    plt.gca().set_facecolor('gray')\n",
    "\n",
    "    # Add grid and title\n",
    "    plt.grid(True)\n",
    "    plt.title(f\"2D Rendering of Circles Based on Positions (Frame {frame})\")\n",
    "\n",
    "    # Show the plot\n",
    "    plt.show()\n",
    "\n",
    "# Create an interactive slider\n",
    "frame_slider = widgets.IntSlider(min=0, max=output.shape[1] - 1, step=1, value=0, description='Frame:')\n",
    "widgets.interact(plot_frame, frame=frame_slider)\n",
    "\n",
    "# Display the slider\n",
    "# display(frame_slider)\n",
    "\n",
    "\n"
   ]
  },
  {
   "cell_type": "code",
   "execution_count": 7,
   "metadata": {},
   "outputs": [],
   "source": [
    "import matplotlib.pyplot as plt\n",
    "import matplotlib.animation as animation\n",
    "\n",
    "# Function to plot the positions for a given frame\n",
    "def plot_frame(frame, ax):\n",
    "    ax.clear()\n",
    "    positions = output[:, frame].numpy()\n",
    "\n",
    "    # Iterate over positions and plot each as a circle\n",
    "    for pos, label in zip(positions, class_labels):\n",
    "        color = color_map.get(label, 'k')  # Default to black if class is unknown\n",
    "        circle = plt.Circle((pos[0], pos[1]), 1.5 if label == 'Player' else 0.5, color=color, alpha=0.5)\n",
    "        ax.add_patch(circle)\n",
    "\n",
    "    # Set the limits and aspect ratio\n",
    "    ax.set_xlim(-25, 25)\n",
    "    ax.set_ylim(-25, 25)\n",
    "    ax.set_aspect('equal', adjustable='box')\n",
    "    ax.set_facecolor('gray')\n",
    "\n",
    "    # Add grid and title\n",
    "    ax.grid(True)\n",
    "    ax.set_title(f\"2D Rendering of Circles Based on Positions (Frame {frame})\")\n",
    "\n",
    "# Function to create and save the animation\n",
    "def create_animation(output, class_labels, color_map, filename='animation.mp4', fps=25):\n",
    "    fig, ax = plt.subplots(figsize=(5, 5))\n",
    "\n",
    "    # Create the animation\n",
    "    ani = animation.FuncAnimation(fig, plot_frame, frames=output.shape[1], fargs=(ax,), repeat=False)\n",
    "\n",
    "    # Save the animation as an MP4 file\n",
    "    ani.save(filename, writer='ffmpeg', fps=fps)\n",
    "\n",
    "    plt.close(fig)\n",
    "\n",
    "# Example usage\n",
    "create_animation(output, class_labels, color_map)\n"
   ]
  },
  {
   "cell_type": "code",
   "execution_count": 12,
   "metadata": {},
   "outputs": [
    {
     "data": {
      "image/png": "[encoded data removed]",
      "text/plain": [
       "<Figure size 1000x800 with 1 Axes>"
      ]
     },
     "metadata": {},
     "output_type": "display_data"
    }
   ],
   "source": [
    "import numpy as np\n",
    "import matplotlib.pyplot as plt\n",
    "\n",
    "# Dictionary to map class labels to colors\n",
    "color_map = {\n",
    "    'Red': 'r',\n",
    "    'Green': 'g',\n",
    "    'Blue': 'b',\n",
    "    'Yellow': 'y',\n",
    "    'Player': 'm'\n",
    "}\n",
    "\n",
    "def parse_simulation_data(file_content):\n",
    "    data = {}\n",
    "    current_class = None\n",
    "\n",
    "    for line in file_content.strip().split(\"\\n\"):\n",
    "        line = line.strip()\n",
    "        if not line or line == '---':\n",
    "            continue\n",
    "        if line.startswith(\"Class:\"):\n",
    "            current_class = line.split(\":\")[1].strip()\n",
    "            data[current_class] = {'x': [], 'y': []}\n",
    "        else:\n",
    "            # Parse position data\n",
    "            x, y = map(float, line.split(\",\"))\n",
    "            data[current_class]['x'].append(x)\n",
    "            data[current_class]['y'].append(y)\n",
    "\n",
    "    return data\n",
    "\n",
    "def plot_ball_trajectories(data):\n",
    "    plt.figure(figsize=(10, 8))\n",
    "\n",
    "    for ball_class, positions in data.items():\n",
    "        x = positions['x']\n",
    "        y = positions['y']\n",
    "        color = color_map.get(ball_class, 'k')  # Default to black if class is unknown\n",
    "        plt.plot(x, y, label=ball_class, color=color)\n",
    "\n",
    "    plt.title(\"Ball Trajectories\")\n",
    "    plt.xlabel(\"X Position\")\n",
    "    plt.ylabel(\"Y Position\")\n",
    "    plt.legend()\n",
    "    plt.grid(True)\n",
    "    plt.show()\n",
    "\n",
    "# Example usage\n",
    "file_path = '../../ball_positions.txt'  # Update this with the actual file path\n",
    "\n",
    "# Read the file content\n",
    "with open(file_path, 'r') as file:\n",
    "    file_content = file.read()\n",
    "\n",
    "# Parse the data and plot the trajectories\n",
    "simulation_data = parse_simulation_data(file_content)\n",
    "plot_ball_trajectories(simulation_data)\n"
   ]
  }
 ],
 "metadata": {
  "kernelspec": {
   "display_name": "py11",
   "language": "python",
   "name": "python3"
  },
  "language_info": {
   "codemirror_mode": {
    "name": "ipython",
    "version": 3
   },
   "file_extension": ".py",
   "mimetype": "text/x-python",
   "name": "python",
   "nbconvert_exporter": "python",
   "pygments_lexer": "ipython3",
   "version": "3.11.7"
  }
 },
 "nbformat": 4,
 "nbformat_minor": 2
}
